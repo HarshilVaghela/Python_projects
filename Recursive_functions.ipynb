{
 "cells": [
  {
   "cell_type": "markdown",
   "metadata": {},
   "source": [
    "# Assignment 4 "
   ]
  },
  {
   "cell_type": "markdown",
   "metadata": {},
   "source": [
    "## Student name: Harshilkumar Vaghela "
   ]
  },
  {
   "cell_type": "markdown",
   "metadata": {},
   "source": [
    "## Student Number: 3116318"
   ]
  },
  {
   "cell_type": "markdown",
   "metadata": {},
   "source": [
    "### Exercise 7.1"
   ]
  },
  {
   "cell_type": "code",
   "execution_count": 16,
   "metadata": {},
   "outputs": [],
   "source": [
    "import math\n",
    "\n",
    "EXPECTED= [\n",
    "    \n",
    "[1.0, 1.0, 0.0],\n",
    "[2.0, -1.41421356237, 2.22044604925e-16],\n",
    "[3.0, 1.73205080757, 0.0],\n",
    "[4.0, 2.0,  0.0],\n",
    "[5.0, 2.2360679775,  0.0],\n",
    "[6.0, 2.44948974278,  0.0],\n",
    "[7.0, 2.64575131106,  0.0],\n",
    "[8.0, 2.82842712475,  4.4408920985e-16],\n",
    "[9.0, 3.0,  0.0],\n",
    "]\n",
    "\n",
    "\n",
    "\n",
    "def mysqrt(a):\n",
    "    x=a/5\n",
    "    while True:\n",
    "        y = (x + a/x) / 2\n",
    "        if y == x:\n",
    "            return x\n",
    "        x = y\n",
    "        \n",
    "EPSILON = 1e-10 #taking the epsiolon as the smallest value\n",
    "\n",
    "def test_mysqrt():\n",
    "    for (a,expected,expected_difference) in EXPECTED:\n",
    "       # print(f'Testing with a == {a}')\n",
    "        result = mysqrt(a)\n",
    "        diff = result - math.sqrt(a)\n",
    "        diff2=abs(expected_difference - diff)\n",
    "        assert diff2<=EPSILON#it will show the assertion error if it's wrong"
   ]
  },
  {
   "cell_type": "code",
   "execution_count": 17,
   "metadata": {},
   "outputs": [
    {
     "data": {
      "text/plain": [
       "2.0"
      ]
     },
     "execution_count": 17,
     "metadata": {},
     "output_type": "execute_result"
    }
   ],
   "source": [
    "mysqrt(4)"
   ]
  },
  {
   "cell_type": "code",
   "execution_count": 18,
   "metadata": {},
   "outputs": [],
   "source": [
    "test_mysqrt()"
   ]
  },
  {
   "cell_type": "markdown",
   "metadata": {},
   "source": [
    "### Exercise 7.3"
   ]
  },
  {
   "cell_type": "code",
   "execution_count": 19,
   "metadata": {},
   "outputs": [],
   "source": [
    "import math\n",
    "def factorial(n):\n",
    "    if n == 0:\n",
    "        return 1\n",
    "    else:\n",
    "        recurse = factorial(n-1)\n",
    "        result = n * recurse\n",
    "        return result"
   ]
  },
  {
   "cell_type": "code",
   "execution_count": 20,
   "metadata": {},
   "outputs": [
    {
     "name": "stdout",
     "output_type": "stream",
     "text": [
      "3.1415927300133055\n"
     ]
    }
   ],
   "source": [
    "def estimate_pi():\n",
    "    iterative=0\n",
    "    sum = 0\n",
    "    k = 0\n",
    "    factor = 2 * math.sqrt(2) / 9801\n",
    "    while abs(iterative) < 1e-15:\n",
    "        num = factorial(4*k) * (1103 + 26390*k)\n",
    "        den = factorial(k)**4 * 396**(4*k)\n",
    "        iterative = factor * num / den\n",
    "        sum += iterative\n",
    "        \n",
    "        \n",
    "    return 1 / sum\n",
    "\n",
    "print(estimate_pi())"
   ]
  }
 ],
 "metadata": {
  "kernelspec": {
   "display_name": "Python 3 (ipykernel)",
   "language": "python",
   "name": "python3"
  },
  "language_info": {
   "codemirror_mode": {
    "name": "ipython",
    "version": 3
   },
   "file_extension": ".py",
   "mimetype": "text/x-python",
   "name": "python",
   "nbconvert_exporter": "python",
   "pygments_lexer": "ipython3",
   "version": "3.9.12"
  }
 },
 "nbformat": 4,
 "nbformat_minor": 4
}
