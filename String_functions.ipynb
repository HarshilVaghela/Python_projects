{
 "cells": [
  {
   "cell_type": "markdown",
   "metadata": {},
   "source": [
    "# Assignment 7"
   ]
  },
  {
   "cell_type": "markdown",
   "metadata": {},
   "source": [
    "## Student Name: Harshilkumar Vaghela"
   ]
  },
  {
   "cell_type": "markdown",
   "metadata": {},
   "source": [
    "## Student Id: 3116318"
   ]
  },
  {
   "cell_type": "code",
   "execution_count": 1,
   "metadata": {},
   "outputs": [],
   "source": [
    "def rotate_word(word:str,count:int):\n",
    "    word2=''\n",
    "    w=''\n",
    "    for c in word:\n",
    "        l=ord(c)+count\n",
    "        if c.islower():\n",
    "            if l>ord('z'):\n",
    "                w=chr(ord('a')+(l-ord('z'))-1)\n",
    "                word2=word2+w\n",
    "            elif l<ord('a'):\n",
    "                w=chr(ord('z')-(ord('a')-l)+1)\n",
    "                word2=word2+w\n",
    "            else:\n",
    "                word2=word2+chr(l)\n",
    "        if c.isupper():\n",
    "            if l>ord('Z'):\n",
    "                w=chr(ord('A')+(l-ord('Z'))-1)\n",
    "                word2=word2+w\n",
    "            elif l<ord('A'):\n",
    "                w=chr(ord('Z')-(ord('A')-l)+1)\n",
    "                word2=word2+w\n",
    "            else:\n",
    "                word2=word2+chr(l)\n",
    "    return word2"
   ]
  },
  {
   "cell_type": "markdown",
   "metadata": {},
   "source": [
    "### 11.5"
   ]
  },
  {
   "cell_type": "code",
   "execution_count": 5,
   "metadata": {},
   "outputs": [],
   "source": [
    "def word_dict():\n",
    "    k = dict()\n",
    "    file = open('word.txt')\n",
    "    for line in file:\n",
    "        word = line.strip().lower()\n",
    "        k[word] = None\n",
    "\n",
    "    return k\n",
    "\n",
    "\n",
    "def rotate_pairs(word, word_dict):\n",
    "    for j in range(1, 14):\n",
    "        rotated = rotate_word(word, j)\n",
    "        if rotated in word_dict:\n",
    "            print(word, i, rotated)"
   ]
  },
  {
   "cell_type": "markdown",
   "metadata": {},
   "source": [
    "### 12.1"
   ]
  },
  {
   "cell_type": "code",
   "execution_count": 1,
   "metadata": {},
   "outputs": [],
   "source": [
    "def most_frequent(s):\n",
    "    hist = histogram(s)\n",
    "\n",
    "    t = []\n",
    "    for x, freq in hist.items():\n",
    "        t.append((freq, x))\n",
    "\n",
    "    t.sort(reverse=True)\n",
    "\n",
    "    res = []\n",
    "    for freq, x in t:\n",
    "        res.append(x)\n",
    "\n",
    "    return res\n",
    "    \n",
    "\n",
    "def histogram(s):\n",
    "    hist = {}\n",
    "    for x in s:\n",
    "        hist[x] = hist.get(x, 0) + 1\n",
    "    return hist\n",
    "\n",
    "\n",
    "def read_2(filename):\n",
    "    return open(filename).read()\n",
    "\n"
   ]
  },
  {
   "cell_type": "code",
   "execution_count": 2,
   "metadata": {},
   "outputs": [
    {
     "data": {
      "text/plain": [
       "['d', 'c', 'b', 'a']"
      ]
     },
     "execution_count": 2,
     "metadata": {},
     "output_type": "execute_result"
    }
   ],
   "source": [
    "most_frequent('aabbbccccddddd')"
   ]
  },
  {
   "cell_type": "markdown",
   "metadata": {},
   "source": [
    "### 12.3 "
   ]
  },
  {
   "cell_type": "code",
   "execution_count": 8,
   "metadata": {},
   "outputs": [],
   "source": [
    "def metathesis_pairs(d):\n",
    "    for words in d.values():\n",
    "        for word1 in words:\n",
    "            for word2 in words:\n",
    "                if word1 < word2 and word_distance(word1, word2) == 2:\n",
    "                    print(word1, word2)\n",
    "\n",
    "\n",
    "def word_distance(word1, word2):\n",
    "    assert len(word1) == len(word2)\n",
    "\n",
    "    count = 0\n",
    "    for a, b in zip(word1, word2):\n",
    "        if a != b:\n",
    "            count += 1\n",
    "\n",
    "    return count"
   ]
  }
 ],
 "metadata": {
  "kernelspec": {
   "display_name": "Python 3 (ipykernel)",
   "language": "python",
   "name": "python3"
  },
  "language_info": {
   "codemirror_mode": {
    "name": "ipython",
    "version": 3
   },
   "file_extension": ".py",
   "mimetype": "text/x-python",
   "name": "python",
   "nbconvert_exporter": "python",
   "pygments_lexer": "ipython3",
   "version": "3.9.12"
  }
 },
 "nbformat": 4,
 "nbformat_minor": 4
}
